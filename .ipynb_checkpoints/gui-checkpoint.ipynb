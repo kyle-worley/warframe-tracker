{
 "cells": [
  {
   "cell_type": "code",
   "execution_count": 1,
   "id": "3f17a46f",
   "metadata": {},
   "outputs": [],
   "source": [
    "import PySimpleGUI as sg"
   ]
  },
  {
   "cell_type": "code",
   "execution_count": 8,
   "id": "90164b62",
   "metadata": {},
   "outputs": [],
   "source": [
    "sg.theme('BrownBlue')\n",
    "\n",
    "lithTree = sg.TreeData()\n",
    "lithTree.insert(\"\", \"L_A1\", \"\", [\"A1\", \"\", \"\", \"\"])\n",
    "lithTree.insert(\"L_A1\", \"L_A1_C1\", \"\", [\"\", \"Common\", \"Braton Prime Blueprint\", u'\\u2713'])\n",
    "lithTree.insert(\"L_A1\", \"L_A1_C2\", \"\", [\"\", \"Common\", \"Forma Blueprint\", u'\\u2713'])\n",
    "headings = [ \"Relic\", \"Rarity\", \"Item\", \"Obtained\"]\n",
    "lithInput = sg.InputText('', key=\"lithInput\")\n",
    "lithLayout = [[sg.Tree(data=lithTree, headings=headings[0:], auto_size_columns=True,\n",
    "        num_rows=5, col0_width=1, key='-TREE-', row_height=48, justification='center', metadata=[],\n",
    "        show_expanded=True, enable_events=False,\n",
    "        select_mode=sg.TABLE_SELECT_MODE_BROWSE)]]\n",
    "mesoLayout = [[sg.Text('Tab 2 stuff', size=(10,1))],\n",
    "           [sg.Button('Tab 2 button')]]\n",
    "neoLayout = [[sg.Text('Tab 3 stuff', size=(10,1))],\n",
    "           [sg.Button('Tab 3 button')]]\n",
    "axiLayout = [[sg.Text('Tab 4 stuff', size=(10,1))],\n",
    "           [sg.Button('Tab 4 button')]]\n",
    "wrfLayout = [[sg.Text('Tab 5 stuff', size=(10,1))],\n",
    "           [sg.Button('Tab 5 button')]]\n",
    "prmLayout = [[sg.Text('Tab 6 stuff', size=(10,1))],\n",
    "           [sg.Button('Tab 6 button')]]\n",
    "scnLayout = [[sg.Text('Tab 7 stuff', size=(10,1))],\n",
    "           [sg.Button('Tab 7 button')]]\n",
    "mlLayout = [[sg.Text('Tab 8 stuff', size=(10,1))],\n",
    "           [sg.Button('Tab 8 button')]]\n",
    "othLayout = [[sg.Text('Tab 9 stuff', size=(10,1))],\n",
    "           [sg.Button('Tab 9 button')]]\n",
    "\n",
    "lithTab = sg.Tab('Lith', lithLayout, element_justification= 'center')\n",
    "mesoTab = sg.Tab('Meso', mesoLayout, element_justification= 'center')\n",
    "neoTab = sg.Tab('Neo', neoLayout, element_justification= 'center')\n",
    "axiTab = sg.Tab('Axi', axiLayout, element_justification= 'center')\n",
    "\n",
    "rtabgrp = sg.TabGroup([[lithTab, mesoTab, neoTab, axiTab]], tab_location='centertop', border_width=3)\n",
    "rframe = sg.Frame('Relics', [[rtabgrp]])\n",
    "\n",
    "wrfTab = sg.Tab('Warframes', wrfLayout, element_justification= 'center')\n",
    "prmTab = sg.Tab('Primaries', prmLayout, element_justification= 'center')\n",
    "scnTab = sg.Tab('Secondaries', scnLayout, element_justification= 'center')\n",
    "mlTab = sg.Tab('Melee', mlLayout, element_justification= 'center')\n",
    "othTab = sg.Tab('Other', othLayout, element_justification='center')\n",
    "\n",
    "ptabgrp = sg.TabGroup([[wrfTab, prmTab, scnTab, mlTab, othTab]], tab_location='centertop', border_width=3)\n",
    "mframe = sg.Frame('Primes', [[ptabgrp]])\n",
    "       \n",
    "mainFrame = [[rframe, mframe]]\n",
    "\n",
    "window = sg.Window('Window Title', mainFrame)\n",
    "while True:\n",
    "    event, values = window.read()\n",
    "    if event == sg.WIN_CLOSED:\n",
    "        break\n",
    "    continue\n",
    "\n",
    "window.close()"
   ]
  },
  {
   "cell_type": "code",
   "execution_count": null,
   "id": "3f3702d8",
   "metadata": {},
   "outputs": [],
   "source": []
  },
  {
   "cell_type": "code",
   "execution_count": null,
   "id": "1829b08b",
   "metadata": {},
   "outputs": [],
   "source": []
  }
 ],
 "metadata": {
  "kernelspec": {
   "display_name": "Python 3 (ipykernel)",
   "language": "python",
   "name": "python3"
  },
  "language_info": {
   "codemirror_mode": {
    "name": "ipython",
    "version": 3
   },
   "file_extension": ".py",
   "mimetype": "text/x-python",
   "name": "python",
   "nbconvert_exporter": "python",
   "pygments_lexer": "ipython3",
   "version": "3.9.12"
  }
 },
 "nbformat": 4,
 "nbformat_minor": 5
}
