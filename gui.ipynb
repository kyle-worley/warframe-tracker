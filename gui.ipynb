{
 "cells": [
  {
   "cell_type": "code",
   "execution_count": 1,
   "id": "3f17a46f",
   "metadata": {},
   "outputs": [],
   "source": [
    "import PySimpleGUI as sg\n",
    "import mysql.connector as sql"
   ]
  },
  {
   "cell_type": "code",
   "execution_count": 2,
   "id": "fd96d326",
   "metadata": {},
   "outputs": [],
   "source": [
    "cnx = sql.connect(user='root', password='footdogtableclock', database='warframe')\n",
    "sg.theme('BrownBlue')\n",
    "\n",
    "lithTree = sg.TreeData()\n",
    "lithTree.insert(\"\", \"L_A1\", \"\", [\"A1\", \"\", \"\", \"\"])\n",
    "lithTree.insert(\"L_A1\", \"L_A1_C1\", \"\", [\"\", \"Common\", \"Braton Prime Blueprint\", u'\\u2713'])\n",
    "lithTree.insert(\"L_A1\", \"L_A1_C2\", \"\", [\"\", \"Common\", \"Forma Blueprint\", u'\\u2713'])\n",
    "relicHeadings = [ \"Relic\", \"Rarity\", \"Item\", \"Obtained\"]\n",
    "lithLayout = [[sg.Tree(data=lithTree, headings=relicHeadings[0:], auto_size_columns=True,\n",
    "        num_rows=5, col0_width=1, key='-TREE-', row_height=48, justification='center', metadata=[],\n",
    "        show_expanded=True, enable_events=False,\n",
    "        select_mode=sg.TABLE_SELECT_MODE_BROWSE)]]\n",
    "\n",
    "mesoLayout = [[sg.Text('Tab 2 stuff', size=(10,1))],\n",
    "           [sg.Button('Tab 2 button')]]\n",
    " \n",
    "neoLayout = [[sg.Text('Tab 3 stuff', size=(10,1))],\n",
    "           [sg.Button('Tab 3 button')]]\n",
    "\n",
    "axiLayout = [[sg.Text('Tab 4 stuff', size=(10,1))],\n",
    "           [sg.Button('Tab 4 button')]]"
   ]
  },
  {
   "cell_type": "code",
   "execution_count": 3,
   "id": "09ab5c2e",
   "metadata": {},
   "outputs": [],
   "source": [
    "wrfTree = sg.TreeData()\n",
    "cursor = cnx.cursor()\n",
    "query = \"SELECT DISTINCT associated_set FROM prime_parts WHERE type = 'Warframe'\"\n",
    "cursor.execute(query)\n",
    "warframes = []\n",
    "for (warframe) in cursor:\n",
    "    wrfTree.insert(\"\", warframe[0], \"\", [warframe[0], \"\", \"\", \"\", \"\", \"\"])\n",
    "\n",
    "query = \"SELECT * FROM prime_parts WHERE type = 'Warframe'\"\n",
    "cursor.execute(query)\n",
    "for (item, type, associated_set, owned, needed, complete, vaulted) in cursor:\n",
    "    wrfTree.insert(associated_set, item, \"\", [\"\", item, owned, needed, complete, vaulted])\n",
    "cursor.close()\n",
    "wrfHeadings = [\"Warframe\", \"Item\", \"Owned\", \"Needed\", \"Complete\", \"Vaulted\"]\n",
    "wrfLayout = [[sg.Tree(data=wrfTree, headings=wrfHeadings[0:], auto_size_columns=True,\n",
    "        num_rows=5, col0_width=1, key='-TREE-', row_height=48, justification='center', metadata=[],\n",
    "        show_expanded=False, enable_events=False,\n",
    "        select_mode=sg.TABLE_SELECT_MODE_BROWSE)]]"
   ]
  },
  {
   "cell_type": "code",
   "execution_count": 4,
   "id": "90164b62",
   "metadata": {},
   "outputs": [],
   "source": [
    "prmLayout = [[sg.Text('Tab 6 stuff', size=(10,1))],\n",
    "           [sg.Button('Tab 6 button')]]\n",
    "\n",
    "scnLayout = [[sg.Text('Tab 7 stuff', size=(10,1))],\n",
    "           [sg.Button('Tab 7 button')]]\n",
    "\n",
    "mlLayout = [[sg.Text('Tab 8 stuff', size=(10,1))],\n",
    "           [sg.Button('Tab 8 button')]]\n",
    "\n",
    "othLayout = [[sg.Text('Tab 9 stuff', size=(10,1))],\n",
    "           [sg.Button('Tab 9 button')]]\n",
    "\n",
    "lithTab = sg.Tab('Lith', lithLayout, element_justification= 'center')\n",
    "mesoTab = sg.Tab('Meso', mesoLayout, element_justification= 'center')\n",
    "neoTab = sg.Tab('Neo', neoLayout, element_justification= 'center')\n",
    "axiTab = sg.Tab('Axi', axiLayout, element_justification= 'center')\n",
    "\n",
    "rtabgrp = sg.TabGroup([[lithTab, mesoTab, neoTab, axiTab]], tab_location='centertop', border_width=3)\n",
    "rframe = sg.Frame('Relics', [[rtabgrp]])\n",
    "\n",
    "wrfTab = sg.Tab('Warframes', wrfLayout, element_justification= 'center')\n",
    "prmTab = sg.Tab('Primaries', prmLayout, element_justification= 'center')\n",
    "scnTab = sg.Tab('Secondaries', scnLayout, element_justification= 'center')\n",
    "mlTab = sg.Tab('Melee', mlLayout, element_justification= 'center')\n",
    "othTab = sg.Tab('Other', othLayout, element_justification='center')\n",
    "\n",
    "ptabgrp = sg.TabGroup([[wrfTab, prmTab, scnTab, mlTab, othTab]], tab_location='centertop', border_width=3)\n",
    "mframe = sg.Frame('Primes', [[ptabgrp]])\n",
    "       \n",
    "mainFrame = [[rframe, mframe]]\n",
    "\n",
    "window = sg.Window('Window Title', mainFrame)\n",
    "while True:\n",
    "    event, values = window.read()\n",
    "    if event == sg.WIN_CLOSED:\n",
    "        break\n",
    "    continue\n",
    "\n",
    "window.close()\n",
    "cnx.close()"
   ]
  },
  {
   "cell_type": "code",
   "execution_count": null,
   "id": "d0d6ec41",
   "metadata": {},
   "outputs": [],
   "source": []
  }
 ],
 "metadata": {
  "kernelspec": {
   "display_name": "Python 3 (ipykernel)",
   "language": "python",
   "name": "python3"
  },
  "language_info": {
   "codemirror_mode": {
    "name": "ipython",
    "version": 3
   },
   "file_extension": ".py",
   "mimetype": "text/x-python",
   "name": "python",
   "nbconvert_exporter": "python",
   "pygments_lexer": "ipython3",
   "version": "3.9.12"
  }
 },
 "nbformat": 4,
 "nbformat_minor": 5
}
