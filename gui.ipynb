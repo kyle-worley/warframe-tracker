{
 "cells": [
  {
   "cell_type": "code",
   "execution_count": 3,
   "id": "3f17a46f",
   "metadata": {},
   "outputs": [],
   "source": [
    "import PySimpleGUI as sg"
   ]
  },
  {
   "cell_type": "code",
   "execution_count": 5,
   "id": "90164b62",
   "metadata": {},
   "outputs": [],
   "source": [
    "sg.theme('BrownBlue')   # Add a touch of color\n",
    "# All the stuff inside your window.\n",
    "layout1 = [[sg.Text('Tab 1 stuff', size=(10,1))],\n",
    "           [sg.Button('Tab 1 button')]]\n",
    "layout2 = [[sg.Text('Tab 2 stuff', size=(10,1))],\n",
    "           [sg.Button('Tab 2 button')]]\n",
    "layout3 = [[sg.Text('Tab 3 stuff', size=(10,1))],\n",
    "           [sg.Button('Tab 3 button')]]\n",
    "layout4 = [[sg.Text('Tab 4 stuff', size=(10,1))],\n",
    "           [sg.Button('Tab 4 button')]]\n",
    "layout5 = [[sg.Text('Tab 5 stuff', size=(10,1))],\n",
    "           [sg.Button('Tab 5 button')]]\n",
    "layout6 = [[sg.Text('Tab 6 stuff', size=(10,1))],\n",
    "           [sg.Button('Tab 6 button')]]\n",
    "layout7 = [[sg.Text('Tab 7 stuff', size=(10,1))],\n",
    "           [sg.Button('Tab 7 button')]]\n",
    "layout8 = [[sg.Text('Tab 8 stuff', size=(10,1))],\n",
    "           [sg.Button('Tab 8 button')]]\n",
    "layout9 = [[sg.Text('Tab 9 stuff', size=(10,1))],\n",
    "           [sg.Button('Tab 9 button')]]\n",
    "\n",
    "lithTab = sg.Tab('Lith', layout1, element_justification= 'center')\n",
    "mesoTab = sg.Tab('Meso', layout2, element_justification= 'center')\n",
    "neoTab = sg.Tab('Neo', layout3, element_justification= 'center')\n",
    "axiTab = sg.Tab('Axi', layout4, element_justification= 'center')\n",
    "\n",
    "rtabgrp = sg.TabGroup([[lithTab, mesoTab, neoTab, axiTab]], tab_location='centertop', border_width=3)\n",
    "rframe = sg.Frame('Relics', [[rtabgrp]])\n",
    "\n",
    "wrfTab = sg.Tab('Warframes', layout5, element_justification= 'center')\n",
    "prmTab = sg.Tab('Primaries', layout6, element_justification= 'center')\n",
    "scnTab = sg.Tab('Secondaries', layout7, element_justification= 'center')\n",
    "mlTab = sg.Tab('Melee', layout8, element_justification= 'center')\n",
    "othTab = sg.Tab('Other', layout9, element_justification='center')\n",
    "\n",
    "ptabgrp = sg.TabGroup([[wrfTab, prmTab, scnTab, mlTab, othTab]], tab_location='centertop', border_width=3)\n",
    "mframe = sg.Frame('Primes', [[ptabgrp]])\n",
    "\n",
    "#Define Layout with Tabs         \n",
    "mainFrame = [[rframe, mframe]]\n",
    "# Create the Window\n",
    "window = sg.Window('Window Title', mainFrame)\n",
    "# Event Loop to process \"events\" and get the \"values\" of the inputs\n",
    "while True:\n",
    "    event, values = window.read()\n",
    "    if event == sg.WIN_CLOSED: # if user closes window or clicks cancel\n",
    "        break\n",
    "    print('You entered ', values[0])\n",
    "\n",
    "window.close()"
   ]
  },
  {
   "cell_type": "code",
   "execution_count": null,
   "id": "3f3702d8",
   "metadata": {},
   "outputs": [],
   "source": []
  }
 ],
 "metadata": {
  "kernelspec": {
   "display_name": "Python 3 (ipykernel)",
   "language": "python",
   "name": "python3"
  },
  "language_info": {
   "codemirror_mode": {
    "name": "ipython",
    "version": 3
   },
   "file_extension": ".py",
   "mimetype": "text/x-python",
   "name": "python",
   "nbconvert_exporter": "python",
   "pygments_lexer": "ipython3",
   "version": "3.9.12"
  }
 },
 "nbformat": 4,
 "nbformat_minor": 5
}
